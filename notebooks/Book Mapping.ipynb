{
 "cells": [
  {
   "cell_type": "code",
   "execution_count": 29,
   "id": "ff13ac4a",
   "metadata": {
    "ExecuteTime": {
     "end_time": "2023-02-16T20:31:49.717365Z",
     "start_time": "2023-02-16T20:31:49.705364Z"
    }
   },
   "outputs": [],
   "source": [
    "import json\n",
    "from pprint import pprint\n",
    "from statistics import mean, median, mode, stdev, variance, pstdev, pvariance\n",
    "from copy import deepcopy, copy\n",
    "from os import listdir, path, getcwd\n",
    "from pymongo.mongo_client import MongoClient\n",
    "from pymongo.server_api import ServerApi\n",
    "from pymongo.collation import Collation"
   ]
  },
  {
   "cell_type": "code",
   "execution_count": 11,
   "id": "3f34d462",
   "metadata": {
    "ExecuteTime": {
     "end_time": "2023-02-16T20:10:44.692440Z",
     "start_time": "2023-02-16T20:10:44.679450Z"
    }
   },
   "outputs": [],
   "source": [
    "base_uri = './hebrew sources/sefaria-export/Sefaria-Export/json/Tanakh'\n",
    "tanakh = listdir(base_uri)"
   ]
  },
  {
   "cell_type": "code",
   "execution_count": 75,
   "id": "0f999339",
   "metadata": {
    "ExecuteTime": {
     "end_time": "2023-02-16T21:19:28.562589Z",
     "start_time": "2023-02-16T21:19:28.366552Z"
    }
   },
   "outputs": [
    {
     "name": "stdout",
     "output_type": "stream",
     "text": [
      "['Amos', 'Ezekiel', 'Habakkuk', 'Haggai', 'Hosea', 'I Kings', 'I Samuel', 'II Kings', 'II Samuel', 'Isaiah', 'Jeremiah', 'Joel', 'Jonah', 'Joshua', 'Judges', 'Malachi', 'Micah', 'Nahum', 'Obadiah', 'Zechariah', 'Zephaniah']\n",
      "['Deuteronomy', 'Exodus', 'Genesis', 'Leviticus', 'Numbers']\n",
      "['Daniel', 'Ecclesiastes', 'Esther', 'Ezra', 'I Chronicles', 'II Chronicles', 'Job', 'Lamentations', 'Nehemiah', 'Proverbs', 'Psalms', 'Ruth', 'Song of Songs']\n"
     ]
    }
   ],
   "source": [
    "base_uri = path.join(getcwd(), 'hebrew sources', 'sefaria-export',\n",
    "                     'Sefaria-Export', 'json', 'Tanakh')\n",
    "tanakh = listdir(base_uri)\n",
    "hebrew_bible = {}\n",
    "english_bible = {}\n",
    "for part in tanakh:\n",
    "    directory_uri = path.join(base_uri, part)\n",
    "    books = listdir(directory_uri)\n",
    "    print(books)\n",
    "    for book in books:\n",
    "        book_uri = path.join(directory_uri, book)\n",
    "        hebrew_uri = path.join(book_uri, 'Hebrew', 'Tanach with Nikkud.json')\n",
    "        with open(hebrew_uri, 'r', encoding='utf-8') as file:\n",
    "            data = json.load(file)\n",
    "            hebrew_bible[book] = data['text']\n",
    "        english_uri = path.join(book_uri, 'English', 'The Holy Scriptures A New Translation JPS 1917.json')\n",
    "        with open(english_uri, 'r', encoding='utf-8') as file:\n",
    "            data = json.load(file)\n",
    "            english_bible[book] = data['text']"
   ]
  },
  {
   "cell_type": "code",
   "execution_count": 76,
   "id": "8927a32b",
   "metadata": {
    "ExecuteTime": {
     "end_time": "2023-02-16T21:19:29.060682Z",
     "start_time": "2023-02-16T21:19:29.048687Z"
    }
   },
   "outputs": [],
   "source": [
    "bible_verses = []"
   ]
  },
  {
   "cell_type": "code",
   "execution_count": 77,
   "id": "ff0f8569",
   "metadata": {
    "ExecuteTime": {
     "end_time": "2023-02-16T21:19:29.610321Z",
     "start_time": "2023-02-16T21:19:29.581237Z"
    }
   },
   "outputs": [],
   "source": [
    "bible_titles = hebrew_bible.keys()\n",
    "for book_title in bible_titles:\n",
    "    hebrew_book = hebrew_bible[book_title]\n",
    "    english_book = english_bible[book_title]\n",
    "    for chapter_num, chapter in enumerate(hebrew_book, start=1):\n",
    "        for verse_num, verse in enumerate(chapter, start=1):\n",
    "            verse_obj = {\n",
    "                \"book\" : book_title,\n",
    "                \"chapter\" : chapter_num,\n",
    "                \"verse\" : verse_num,\n",
    "                \"hebrew\" : hebrew_book[chapter_num - 1][verse_num - 1],\n",
    "                \"english\" : english_book[chapter_num - 1][verse_num - 1]\n",
    "            }\n",
    "            bible_verses.append(verse_obj)"
   ]
  },
  {
   "cell_type": "code",
   "execution_count": 80,
   "id": "c6e94573",
   "metadata": {
    "ExecuteTime": {
     "end_time": "2023-02-16T21:19:45.413209Z",
     "start_time": "2023-02-16T21:19:45.400219Z"
    }
   },
   "outputs": [
    {
     "data": {
      "text/plain": [
       "{'book': 'Amos',\n",
       " 'chapter': 1,\n",
       " 'verse': 3,\n",
       " 'hebrew': 'כֹּה אָמַר יְהוָה עַל־שְׁלֹשָׁה פִּשְׁעֵי דַמֶּשֶׂק וְעַל־אַרְבָּעָה לֹא אֲשִׁיבֶנּוּ עַל־דּוּשָׁם בַּחֲרֻצוֹת הַבַּרְזֶל אֶת־הַגִּלְעָד׃',\n",
       " 'english': 'For thus saith the LORD: For three transgressions of Damascus, yea, for four, I will not reverse it: because they have threshed Gilead with sledges of iron.'}"
      ]
     },
     "execution_count": 80,
     "metadata": {},
     "output_type": "execute_result"
    }
   ],
   "source": [
    "bible_verses[2]"
   ]
  },
  {
   "cell_type": "code",
   "execution_count": 65,
   "id": "18bbc812",
   "metadata": {
    "ExecuteTime": {
     "end_time": "2023-02-16T20:57:00.260570Z",
     "start_time": "2023-02-16T20:57:00.254572Z"
    }
   },
   "outputs": [
    {
     "data": {
      "text/plain": [
       "23206"
      ]
     },
     "execution_count": 65,
     "metadata": {},
     "output_type": "execute_result"
    }
   ],
   "source": [
    "len(bible_verses)"
   ]
  },
  {
   "cell_type": "code",
   "execution_count": null,
   "id": "988bd863",
   "metadata": {},
   "outputs": [],
   "source": []
  }
 ],
 "metadata": {
  "kernelspec": {
   "display_name": "Python 3 (ipykernel)",
   "language": "python",
   "name": "python3"
  },
  "language_info": {
   "codemirror_mode": {
    "name": "ipython",
    "version": 3
   },
   "file_extension": ".py",
   "mimetype": "text/x-python",
   "name": "python",
   "nbconvert_exporter": "python",
   "pygments_lexer": "ipython3",
   "version": "3.9.15"
  },
  "varInspector": {
   "cols": {
    "lenName": 16,
    "lenType": 16,
    "lenVar": 40
   },
   "kernels_config": {
    "python": {
     "delete_cmd_postfix": "",
     "delete_cmd_prefix": "del ",
     "library": "var_list.py",
     "varRefreshCmd": "print(var_dic_list())"
    },
    "r": {
     "delete_cmd_postfix": ") ",
     "delete_cmd_prefix": "rm(",
     "library": "var_list.r",
     "varRefreshCmd": "cat(var_dic_list()) "
    }
   },
   "types_to_exclude": [
    "module",
    "function",
    "builtin_function_or_method",
    "instance",
    "_Feature"
   ],
   "window_display": false
  }
 },
 "nbformat": 4,
 "nbformat_minor": 5
}
