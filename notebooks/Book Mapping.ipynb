{
 "cells": [
  {
   "cell_type": "code",
   "execution_count": null,
   "id": "ff13ac4a",
   "metadata": {
    "ExecuteTime": {
     "end_time": "2023-02-27T15:15:51.094070Z",
     "start_time": "2023-02-27T15:15:51.081030Z"
    }
   },
   "outputs": [],
   "source": [
    "import json\n",
    "from pprint import pprint\n",
    "from statistics import mean, median, mode, stdev, variance, pstdev, pvariance\n",
    "from copy import deepcopy, copy\n",
    "from os import listdir, path, getcwd\n",
    "from pymongo.mongo_client import MongoClient\n",
    "from pymongo.server_api import ServerApi\n",
    "from pymongo.collation import Collation"
   ]
  },
  {
   "cell_type": "code",
   "execution_count": null,
   "id": "0f999339",
   "metadata": {
    "ExecuteTime": {
     "end_time": "2023-02-27T15:15:51.550023Z",
     "start_time": "2023-02-27T15:15:51.208022Z"
    }
   },
   "outputs": [],
   "source": [
    "base_uri = path.join(getcwd(), '..', 'hebrew_sources', 'sefaria-export', 'json', 'Tanakh')\n",
    "tanakh = listdir(base_uri)\n",
    "hebrew_bible = {}\n",
    "english_bible = {}\n",
    "for part in tanakh:\n",
    "    directory_uri = path.join(base_uri, part)\n",
    "    books = listdir(directory_uri)\n",
    "    print(books)\n",
    "    for book in books:\n",
    "        book_uri = path.join(directory_uri, book)\n",
    "        hebrew_uri = path.join(book_uri, 'Hebrew', 'Tanach with Nikkud.json')\n",
    "        with open(hebrew_uri, 'r', encoding='utf-8') as file:\n",
    "            data = json.load(file)\n",
    "            hebrew_bible[book] = data['text']\n",
    "        english_uri = path.join(book_uri, 'English', 'The Holy Scriptures A New Translation JPS 1917.json')\n",
    "        with open(english_uri, 'r', encoding='utf-8') as file:\n",
    "            data = json.load(file)\n",
    "            english_bible[book] = data['text']"
   ]
  },
  {
   "cell_type": "code",
   "execution_count": null,
   "id": "ff0f8569",
   "metadata": {
    "ExecuteTime": {
     "end_time": "2023-02-27T15:16:14.537830Z",
     "start_time": "2023-02-27T15:16:14.509925Z"
    }
   },
   "outputs": [],
   "source": [
    "bible_verses = []\n",
    "bible_titles = hebrew_bible.keys()\n",
    "for book_title in bible_titles:\n",
    "    hebrew_book = hebrew_bible[book_title]\n",
    "    english_book = english_bible[book_title]\n",
    "    for chapter_num, chapter in enumerate(hebrew_book, start=1):\n",
    "        for verse_num, verse in enumerate(chapter, start=1):\n",
    "            verse_obj = {\n",
    "                \"book\" : book_title,\n",
    "                \"chapter\" : chapter_num,\n",
    "                \"verse\" : verse_num,\n",
    "                \"hebrew\" : hebrew_book[chapter_num - 1][verse_num - 1],\n",
    "                \"english\" : english_book[chapter_num - 1][verse_num - 1]\n",
    "            }\n",
    "            bible_verses.append(verse_obj)"
   ]
  },
  {
   "cell_type": "code",
   "execution_count": null,
   "id": "c6e94573",
   "metadata": {
    "ExecuteTime": {
     "end_time": "2023-02-27T15:18:29.204784Z",
     "start_time": "2023-02-27T15:18:29.189784Z"
    }
   },
   "outputs": [],
   "source": [
    "bible_verses[-1]"
   ]
  },
  {
   "cell_type": "code",
   "execution_count": null,
   "id": "68881703",
   "metadata": {
    "ExecuteTime": {
     "end_time": "2023-02-27T18:48:00.762573Z",
     "start_time": "2023-02-27T18:48:00.745566Z"
    }
   },
   "outputs": [],
   "source": [
    "user = \"\"\n",
    "password = \"\"\n",
    "uri = \"\""
   ]
  },
  {
   "cell_type": "code",
   "execution_count": null,
   "id": "988bd863",
   "metadata": {
    "ExecuteTime": {
     "end_time": "2023-02-27T18:48:03.704438Z",
     "start_time": "2023-02-27T18:48:02.985199Z"
    }
   },
   "outputs": [],
   "source": [
    "conn_str = \"mongodb+srv://{}:{}@{}/?retryWrites=true&w=majority\".format(user, password, uri)\n",
    "client = MongoClient(conn_str, server_api=ServerApi('1'))\n",
    "try:\n",
    "    print(client.server_info())\n",
    "except Exception:\n",
    "    print(\"Unable to connect to server\")"
   ]
  },
  {
   "cell_type": "code",
   "execution_count": null,
   "id": "3fd8f37f",
   "metadata": {
    "ExecuteTime": {
     "end_time": "2023-02-27T18:48:06.099341Z",
     "start_time": "2023-02-27T18:48:06.055446Z"
    }
   },
   "outputs": [],
   "source": [
    "databases = client.list_database_names()\n",
    "print(f'These are the databases: {databases}')"
   ]
  },
  {
   "cell_type": "code",
   "execution_count": null,
   "id": "5c32838b",
   "metadata": {
    "ExecuteTime": {
     "end_time": "2023-02-27T18:52:39.991698Z",
     "start_time": "2023-02-27T18:52:39.965922Z"
    }
   },
   "outputs": [],
   "source": [
    "for verse in bible_verses:\n",
    "    verse['chapter'] = str(verse['chapter'])\n",
    "    verse['verse'] = str(verse['verse'])"
   ]
  },
  {
   "cell_type": "code",
   "execution_count": null,
   "id": "4191d87b",
   "metadata": {
    "ExecuteTime": {
     "end_time": "2023-02-27T18:48:10.457187Z",
     "start_time": "2023-02-27T18:48:10.453190Z"
    }
   },
   "outputs": [],
   "source": [
    "db = client.dictionaries\n",
    "collection = db.bible_test"
   ]
  },
  {
   "cell_type": "code",
   "execution_count": null,
   "id": "1198e2ba",
   "metadata": {
    "ExecuteTime": {
     "end_time": "2023-02-27T18:52:59.868479Z",
     "start_time": "2023-02-27T18:52:47.880439Z"
    }
   },
   "outputs": [],
   "source": [
    "collection.insert_many(bible_verses)"
   ]
  },
  {
   "cell_type": "code",
   "execution_count": null,
   "id": "d4d8c580",
   "metadata": {},
   "outputs": [],
   "source": []
  }
 ],
 "metadata": {
  "kernelspec": {
   "display_name": "Python 3 (ipykernel)",
   "language": "python",
   "name": "python3"
  },
  "language_info": {
   "codemirror_mode": {
    "name": "ipython",
    "version": 3
   },
   "file_extension": ".py",
   "mimetype": "text/x-python",
   "name": "python",
   "nbconvert_exporter": "python",
   "pygments_lexer": "ipython3",
   "version": "3.9.15"
  },
  "varInspector": {
   "cols": {
    "lenName": 16,
    "lenType": 16,
    "lenVar": 40
   },
   "kernels_config": {
    "python": {
     "delete_cmd_postfix": "",
     "delete_cmd_prefix": "del ",
     "library": "var_list.py",
     "varRefreshCmd": "print(var_dic_list())"
    },
    "r": {
     "delete_cmd_postfix": ") ",
     "delete_cmd_prefix": "rm(",
     "library": "var_list.r",
     "varRefreshCmd": "cat(var_dic_list()) "
    }
   },
   "types_to_exclude": [
    "module",
    "function",
    "builtin_function_or_method",
    "instance",
    "_Feature"
   ],
   "window_display": false
  }
 },
 "nbformat": 4,
 "nbformat_minor": 5
}
